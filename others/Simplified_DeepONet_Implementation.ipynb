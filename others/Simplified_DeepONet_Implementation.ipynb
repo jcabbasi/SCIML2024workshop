{
 "cells": [
  {
   "cell_type": "markdown",
   "id": "e27b01eb",
   "metadata": {},
   "source": [
    "# Simplified Implementation of DeepONets\n",
    "\n",
    "This notebook provides a simplified implementation of DeepONets using PyTorch. DeepONets are a type of neural network designed to approximate operators, mapping functions to functions."
   ]
  },
  {
   "cell_type": "code",
   "execution_count": 1,
   "id": "e84c452e",
   "metadata": {},
   "outputs": [],
   "source": [
    "import torch\n",
    "import torch.nn as nn\n",
    "import numpy as np\n",
    "import matplotlib.pyplot as plt"
   ]
  },
  {
   "cell_type": "markdown",
   "id": "571b91cc",
   "metadata": {},
   "source": [
    "## Generate Training Data\n",
    "We use a simple function for demonstration: the sine operator. Given an input function $u(x)$, the operator maps it to $v(x) = \\sin(u(x))$. This serves as the target for the DeepONet."
   ]
  },
  {
   "cell_type": "code",
   "execution_count": 2,
   "id": "7a992e75",
   "metadata": {},
   "outputs": [
    {
     "name": "stdout",
     "output_type": "stream",
     "text": [
      "Input shape: (1000, 50), Output shape: (1000, 50)\n"
     ]
    }
   ],
   "source": [
    "def generate_training_data(n_samples=1000, n_points=50):\n",
    "    x = np.linspace(0, 2 * np.pi, n_points)\n",
    "    u = np.random.uniform(-1, 1, (n_samples, n_points))\n",
    "    v = np.sin(u)\n",
    "    return x, u, v\n",
    "\n",
    "x, u, v = generate_training_data()\n",
    "print(f\"Input shape: {u.shape}, Output shape: {v.shape}\")"
   ]
  },
  {
   "cell_type": "markdown",
   "id": "5318d1dd",
   "metadata": {},
   "source": [
    "## Define DeepONet Architecture\n",
    "DeepONets consist of two subnetworks:\n",
    "- The **branch network**, which processes the input function values $u$.\n",
    "- The **trunk network**, which processes the spatial variable $x$."
   ]
  },
  {
   "cell_type": "code",
   "execution_count": 3,
   "id": "699559f6",
   "metadata": {},
   "outputs": [
    {
     "name": "stdout",
     "output_type": "stream",
     "text": [
      "DeepONet(\n",
      "  (branch_net): Sequential(\n",
      "    (0): Linear(in_features=50, out_features=64, bias=True)\n",
      "    (1): ReLU()\n",
      "    (2): Linear(in_features=64, out_features=64, bias=True)\n",
      "  )\n",
      "  (trunk_net): Sequential(\n",
      "    (0): Linear(in_features=50, out_features=64, bias=True)\n",
      "    (1): ReLU()\n",
      "    (2): Linear(in_features=64, out_features=64, bias=True)\n",
      "  )\n",
      "  (output_layer): Linear(in_features=64, out_features=1, bias=True)\n",
      ")\n"
     ]
    }
   ],
   "source": [
    "class DeepONet(nn.Module):\n",
    "    def __init__(self, branch_dim=50, trunk_dim=50, hidden_dim=64):\n",
    "        super(DeepONet, self).__init__()\n",
    "        self.branch_net = nn.Sequential(\n",
    "            nn.Linear(branch_dim, hidden_dim),\n",
    "            nn.ReLU(),\n",
    "            nn.Linear(hidden_dim, hidden_dim)\n",
    "        )\n",
    "        self.trunk_net = nn.Sequential(\n",
    "            nn.Linear(trunk_dim, hidden_dim),\n",
    "            nn.ReLU(),\n",
    "            nn.Linear(hidden_dim, hidden_dim)\n",
    "        )\n",
    "        self.output_layer = nn.Linear(hidden_dim, 1)\n",
    "\n",
    "    def forward(self, u, x):\n",
    "        branch_out = self.branch_net(u)\n",
    "        trunk_out = self.trunk_net(x)\n",
    "        combined = branch_out * trunk_out\n",
    "        return self.output_layer(combined)\n",
    "\n",
    "model = DeepONet()\n",
    "print(model)"
   ]
  },
  {
   "cell_type": "markdown",
   "id": "95363079",
   "metadata": {},
   "source": [
    "## Training the Model\n",
    "We train the DeepONet using mean squared error (MSE) loss."
   ]
  },
  {
   "cell_type": "code",
   "execution_count": 4,
   "id": "8aceb543",
   "metadata": {},
   "outputs": [
    {
     "name": "stderr",
     "output_type": "stream",
     "text": [
      "c:\\Users\\2924746\\Anaconda3\\envs\\gpuenv\\lib\\site-packages\\torch\\nn\\modules\\loss.py:536: UserWarning: Using a target size (torch.Size([800, 50])) that is different to the input size (torch.Size([800, 1])). This will likely lead to incorrect results due to broadcasting. Please ensure they have the same size.\n",
      "  return F.mse_loss(input, target, reduction=self.reduction)\n"
     ]
    },
    {
     "name": "stdout",
     "output_type": "stream",
     "text": [
      "Epoch 0, Loss: 0.2805\n",
      "Epoch 100, Loss: 0.2669\n",
      "Epoch 200, Loss: 0.2668\n",
      "Epoch 300, Loss: 0.2668\n",
      "Epoch 400, Loss: 0.2668\n",
      "Epoch 500, Loss: 0.2668\n",
      "Epoch 600, Loss: 0.2668\n",
      "Epoch 700, Loss: 0.2668\n",
      "Epoch 800, Loss: 0.2668\n",
      "Epoch 900, Loss: 0.2668\n"
     ]
    }
   ],
   "source": [
    "def train_model(model, u_train, x_train, v_train, epochs=1000, lr=0.001):\n",
    "    optimizer = torch.optim.Adam(model.parameters(), lr=lr)\n",
    "    loss_fn = nn.MSELoss()\n",
    "\n",
    "    for epoch in range(epochs):\n",
    "        model.train()\n",
    "        optimizer.zero_grad()\n",
    "\n",
    "        # Convert data to tensors\n",
    "        u_train_tensor = torch.tensor(u_train, dtype=torch.float32)\n",
    "        x_train_tensor = torch.tensor(x_train, dtype=torch.float32)\n",
    "        v_train_tensor = torch.tensor(v_train, dtype=torch.float32)\n",
    "\n",
    "        # Forward pass\n",
    "        v_pred = model(u_train_tensor, x_train_tensor)\n",
    "        loss = loss_fn(v_pred, v_train_tensor)\n",
    "\n",
    "        # Backward pass and optimization\n",
    "        loss.backward()\n",
    "        optimizer.step()\n",
    "\n",
    "        if epoch % 100 == 0:\n",
    "            print(f\"Epoch {epoch}, Loss: {loss.item():.4f}\")\n",
    "\n",
    "# Example: training data (simplified)\n",
    "u_train = u[:800]\n",
    "x_train = np.tile(x, (800, 1))\n",
    "v_train = v[:800]\n",
    "\n",
    "train_model(model, u_train, x_train, v_train)"
   ]
  },
  {
   "cell_type": "markdown",
   "id": "178a58a0",
   "metadata": {},
   "source": [
    "## Testing the Model\n",
    "We evaluate the trained model on unseen data."
   ]
  }
 ],
 "metadata": {
  "kernelspec": {
   "display_name": "gpuenv",
   "language": "python",
   "name": "python3"
  },
  "language_info": {
   "codemirror_mode": {
    "name": "ipython",
    "version": 3
   },
   "file_extension": ".py",
   "mimetype": "text/x-python",
   "name": "python",
   "nbconvert_exporter": "python",
   "pygments_lexer": "ipython3",
   "version": "3.9.16"
  }
 },
 "nbformat": 4,
 "nbformat_minor": 5
}
