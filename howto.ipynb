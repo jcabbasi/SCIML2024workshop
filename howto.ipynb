{
 "cells": [
  {
   "cell_type": "markdown",
   "metadata": {},
   "source": [
    "## How to load a Jupyter notebook file into Google Colab:\n",
    "\n",
    "\n",
    "Direct Method from Colab:\n",
    "You can open a GitHub notebook directly from Colab using the following steps:\n",
    "\n",
    "- Go to Google Colab (https://colab.research.google.com/)\n",
    "- Click on File > Open notebook.\n",
    "- Select the GitHub tab.\n",
    "- Paste the GitHub URL (https://github.com/jcabbasi/SCIML2024workshop) or search for the repository (SCIML2024workshop) by name, in my account (jcabbasi).\n",
    "- Select the notebook you want to open, and it will load in Colab.\n",
    "- Then, enjoy playing with the tutorial. :)\n",
    "\n",
    "### Exercises:\n",
    "- A Beginner's Introduction to PINNs (Case of Harmonic Oscillator)\n",
    "- A Beginner's Introduction to PINNs (Buckley-Leverett Problem)\n",
    "- A Beginner's Introduction to Neural Operators (An Integral Operator)"
   ]
  }
 ],
 "metadata": {
  "language_info": {
   "name": "python"
  }
 },
 "nbformat": 4,
 "nbformat_minor": 2
}
